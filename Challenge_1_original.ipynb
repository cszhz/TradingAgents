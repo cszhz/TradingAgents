{
 "cells": [
  {
   "attachments": {},
   "cell_type": "markdown",
   "id": "a262470d-15cb-4a69-8059-8d8baefcabad",
   "metadata": {},
   "source": [
    "# Building Multi-Agent Investment Firms with Strands SDK\n",
    "\n",
    "## Introduction\n",
    "In this challenge, participants will use the Strands Agents SDK to build a sophisticated multi-agent system that mirrors the dynamics of real-world trading firms. From fundamental analysts and sentiment experts to technical analysts, traders, and risk management teams, the system collaboratively evaluates market conditions and informs trading decisions.\n",
    "\n"
   ]
  },
  {
   "attachments": {},
   "cell_type": "markdown",
   "id": "ad4111d0-c7a1-4d8d-9c00-5feff20ef0ac",
   "metadata": {
    "tags": []
   },
   "source": [
    "## Task 1\n",
    "- **Goal**: Be familiar with the basic use of the strands agent API and generate market analysis reports \n",
    "- Enter the date: 2025-08-19 and stock code:AMZN you wish to analyze\n",
    "- Create two agents, market report agent and news report agent.\n",
    "- Crawl stock historical data using market report agent.\n",
    "- Crawl stock historical data using stock news agent.\n",
    "- The final output will a csv files and text file."
   ]
  },
  {
   "cell_type": "markdown",
   "id": "b05c2834-d7b8-4600-8e1e-3cfdf489a5ee",
   "metadata": {},
   "source": [
    "## 1. Install dependecies\n",
    "- If you encounter \"ERROR: pip's dependency resolver does not currently take into account all the packages that are installed. \", you can ignore it"
   ]
  },
  {
   "cell_type": "code",
   "execution_count": null,
   "id": "682675cb-d9a0-4947-8ad4-4511e77fb3af",
   "metadata": {
    "tags": []
   },
   "outputs": [],
   "source": [
    "%pip install -r requirements.txt"
   ]
  },
  {
   "cell_type": "markdown",
   "id": "fd6d541e-6cb4-48c6-8d4e-53acc0cb36a4",
   "metadata": {},
   "source": [
    "## 2. Prerequisites code  \n",
    "### 2.1 Import Utils functions"
   ]
  },
  {
   "cell_type": "code",
   "execution_count": 3,
   "id": "8d52631e-9eb7-4eab-958a-ae9441b2589b",
   "metadata": {
    "tags": []
   },
   "outputs": [],
   "source": [
    "import sys\n",
    "import os\n",
    "from pathlib import Path\n",
    "from default_config import DEFAULT_CONFIG\n",
    "import logging\n",
    "from dotenv import load_dotenv"
   ]
  },
  {
   "cell_type": "markdown",
   "id": "4032eff3-205e-489a-9793-564257d15a80",
   "metadata": {},
   "source": [
    "### 2.2 Initiailize LLM models"
   ]
  },
  {
   "cell_type": "code",
   "execution_count": 4,
   "id": "d19b09c1-e6db-4348-9c61-2c0b2a0d2dd7",
   "metadata": {},
   "outputs": [],
   "source": [
    "NOVA_RPO_MODEL_ID = \"amazon.nova-pro-v1:0\"\n",
    "EMBEDDING_MODEL_ID=\"amazon.titan-embed-text-v2:0\""
   ]
  },
  {
   "cell_type": "markdown",
   "id": "a9fbed04-42a3-46d6-8a80-af4ead4b3e85",
   "metadata": {},
   "source": [
    "### 2.3 Initiailize LLM models"
   ]
  },
  {
   "cell_type": "code",
   "execution_count": 5,
   "id": "fd196741-fa95-4167-8900-e097dc48d907",
   "metadata": {},
   "outputs": [],
   "source": [
    "import boto3\n",
    "from botocore.config import Config\n",
    "from strands.models import BedrockModel\n",
    "\n",
    "# AWS Boto3 client configuration with timeouts and retries\n",
    "boto_client_config = Config(\n",
    "    read_timeout=1800,      # 30 minutes read timeout\n",
    "    connect_timeout=900,    # 15 minutes connect timeout\n",
    "    retries=dict(max_attempts=3, mode=\"adaptive\"),\n",
    ")\n",
    "\n",
    "\n",
    "def get_model(model_id=NOVA_RPO_MODEL_ID, thinking=False,\n",
    "              temperature=0.7, max_tokens=10000):\n",
    "    \"\"\"\n",
    "    Create and return a Bedrock model instance.\n",
    "\n",
    "    Args:\n",
    "        model_id (str): The specific model ID to use\n",
    "        thinking (bool): Whether to enable thinking mode for supported models\n",
    "        temperature (float): Sampling temperature for response generation\n",
    "        max_tokens (int): Maximum tokens in the response\n",
    "\n",
    "    Returns:\n",
    "        BedrockModel instance\n",
    "    \"\"\"\n",
    "    session = boto3.Session()\n",
    "\n",
    "    # Configure thinking mode for supported models\n",
    "    additional_request_fields = {}\n",
    "    if thinking:\n",
    "        additional_request_fields = {\n",
    "            \"thinking\": {\n",
    "                \"type\": \"enabled\",\n",
    "                \"budget_tokens\": 4096,\n",
    "            }\n",
    "        }\n",
    "\n",
    "    return BedrockModel(\n",
    "        model_id=model_id,\n",
    "        boto_session=session,\n",
    "        max_tokens=max_tokens,\n",
    "        temperature=temperature,\n",
    "        boto_client_config=boto_client_config,\n",
    "        additional_request_fields=additional_request_fields,\n",
    "    )"
   ]
  },
  {
   "cell_type": "code",
   "execution_count": 6,
   "id": "15ed67dc-8420-4655-b596-9a117a84749e",
   "metadata": {},
   "outputs": [],
   "source": [
    "llm=get_model(NOVA_RPO_MODEL_ID)"
   ]
  },
  {
   "cell_type": "markdown",
   "id": "ec585f6d-4ebc-4f08-9733-526f9bda03fc",
   "metadata": {},
   "source": [
    "### 2.4 Create market agent"
   ]
  },
  {
   "cell_type": "markdown",
   "id": "17a41d26-7e78-4d57-90ee-5cc8d3eeee30",
   "metadata": {},
   "source": [
    "The following function creates a Market Analyst agent that combines a language model with financial data tools to perform technical analysis and market trend evaluation. Depending on the online flag, it either uses real-time market data and indicators (via Yahoo Finance and technical reports) or switches to offline/cached data sources."
   ]
  },
  {
   "cell_type": "code",
   "execution_count": 7,
   "id": "aa5ce16b-f704-49f5-a74e-5691a69533be",
   "metadata": {},
   "outputs": [],
   "source": [
    "from strands import Agent\n",
    "from tools import (\n",
    "    get_yfin_data_online,\n",
    "    get_stockstats_indicators_report_online,\n",
    "    get_yfin_data,\n",
    "    get_stockstats_indicators_report,\n",
    ")\n",
    "\n",
    "def create_market_analyst(llm, online=False):\n",
    "    \"\"\"\n",
    "    Create a Market Analyst agent for technical analysis and market trend evaluation.\n",
    "    \n",
    "    Args:\n",
    "        llm: The language model to use for the agent\n",
    "        online (bool): Whether to use real-time data (True) or cached data (False)\n",
    "        \n",
    "    Returns:\n",
    "        Agent: Configured Market Analyst agent\n",
    "    \"\"\"\n",
    "    # Select tools based on online/offline mode\n",
    "    if online:\n",
    "        tools = [\n",
    "            get_yfin_data_online,                    # Real-time Yahoo Finance data\n",
    "            get_stockstats_indicators_report_online, # Real-time technical indicators\n",
    "        ]\n",
    "    else:\n",
    "        tools = [\n",
    "            get_yfin_data,                    # Cached Yahoo Finance data\n",
    "            get_stockstats_indicators_report, # Cached technical indicators\n",
    "        ]\n",
    "\n",
    "    # Define the agent's system prompt with detailed instructions\n",
    "    system_message = (\n",
    "        \"\"\"You are a Market Analyst specializing in technical analysis and market trend evaluation. \n",
    "        Your role is to analyze financial markets by selecting the **most relevant technical indicators** \n",
    "        for a given market condition or trading strategy.\n",
    "\n",
    "        **Key Responsibilities:**\n",
    "        1. Select up to **8 complementary indicators** that provide diverse insights without redundancy\n",
    "        2. Analyze market trends, momentum, volatility, and volume patterns\n",
    "        3. Provide actionable insights for trading decisions\n",
    "        4. Identify support/resistance levels and trend directions\n",
    "\n",
    "        **Available Technical Indicators by Category:**\n",
    "\n",
    "        **Moving Averages:**\n",
    "        - close_50_sma: 50-period Simple Moving Average for medium-term trend analysis\n",
    "        - close_200_sma: 200-period SMA for long-term trend confirmation and golden/death cross setups\n",
    "        - close_10_ema: 10-period Exponential Moving Average for short-term momentum shifts\n",
    "\n",
    "        **MACD (Moving Average Convergence Divergence):**\n",
    "        - macd: Main MACD line showing momentum via EMA differences\n",
    "        - macds: MACD Signal line (smoothed EMA) for crossover signals\n",
    "        - macdh: MACD Histogram showing momentum strength and early divergence signals\n",
    "\n",
    "        **Momentum Indicators:**\n",
    "        - rsi: Relative Strength Index for overbought/oversold conditions (70/30 thresholds)\n",
    "\n",
    "        **Volatility Indicators:**\n",
    "        - boll: Bollinger Bands Middle (20-period SMA baseline)\n",
    "        - boll_ub: Bollinger Upper Band (overbought zones and breakout signals)\n",
    "        - boll_lb: Bollinger Lower Band (oversold conditions)\n",
    "        - atr: Average True Range for volatility measurement and risk management\n",
    "\n",
    "        **Volume-Based Indicators:**\n",
    "        - vwma: Volume Weighted Moving Average for trend confirmation with volume analysis\n",
    "\n",
    "        **Analysis Guidelines:**\n",
    "        1. Always call get_yfin_data first to retrieve the necessary price data\n",
    "        2. Select indicators that provide complementary information (avoid redundancy)\n",
    "        3. Explain why each selected indicator is suitable for the current market context\n",
    "        4. Provide detailed, nuanced analysis rather than generic \"mixed trends\" statements\n",
    "        5. Focus on actionable insights that help traders make informed decisions\n",
    "        6. Include a markdown table at the end summarizing key findings\n",
    "\n",
    "        **Output Format:**\n",
    "        - Detailed technical analysis with specific observations\n",
    "        - Clear trend identification and momentum assessment\n",
    "        - Support/resistance level identification\n",
    "        - Risk assessment and volatility analysis\n",
    "        - Summary table with key metrics and recommendations\n",
    "        \"\"\"\n",
    "    )\n",
    "\n",
    "    # Create and configure the agent\n",
    "    agent = Agent(\n",
    "        model=llm,\n",
    "        tools=tools,\n",
    "        name=\"Market Analyst\",\n",
    "        system_prompt=system_message,\n",
    "        load_tools_from_directory=False,\n",
    "    )\n",
    "\n",
    "    return agent"
   ]
  },
  {
   "cell_type": "markdown",
   "id": "9e1bcc6c-b24e-4bbb-a169-ed4447a9bfbf",
   "metadata": {},
   "source": [
    "### 2.5 Online analysis"
   ]
  },
  {
   "cell_type": "markdown",
   "id": "11421253-ed41-4280-9a63-398d81407d78",
   "metadata": {},
   "source": [
    "Here we will use online analysis."
   ]
  },
  {
   "cell_type": "code",
   "execution_count": 8,
   "id": "4cbcba4e-8b44-4e17-97bf-8c58f103bbe6",
   "metadata": {},
   "outputs": [],
   "source": [
    "online=True\n",
    "market_agent=create_market_analyst(llm, online)"
   ]
  },
  {
   "cell_type": "markdown",
   "id": "a7e2bed5-c4cc-4894-bba4-8015d30db5e5",
   "metadata": {},
   "source": [
    "### 2.6 Initiailize user input "
   ]
  },
  {
   "cell_type": "markdown",
   "id": "0d39fadc-5387-4db2-b7ac-4427954dc88d",
   "metadata": {},
   "source": [
    "Set the target stock ticker `AMZN` and the specific trade date `2025-08-19` for analysis."
   ]
  },
  {
   "cell_type": "code",
   "execution_count": 9,
   "id": "1d649fd2-d40d-479f-bfbc-b5558744b136",
   "metadata": {
    "tags": []
   },
   "outputs": [],
   "source": [
    "# Configuration\n",
    "company_of_interest = \"AMZN\"  # Stock ticker to analyze\n",
    "trade_date = \"2025-08-19\"    # Analysis date"
   ]
  },
  {
   "cell_type": "markdown",
   "id": "ae7d238e-81d4-4de6-abdf-e46be45983b9",
   "metadata": {
    "tags": []
   },
   "source": [
    "Prepare `working_dir`, default location is the directory `results`."
   ]
  },
  {
   "cell_type": "code",
   "execution_count": 10,
   "id": "0da95800-6c21-4c5d-a19e-99fbc2cadbc7",
   "metadata": {
    "tags": []
   },
   "outputs": [],
   "source": [
    "working_dir = DEFAULT_CONFIG['results_dir']\n",
    "prefix = f\"{company_of_interest}_{trade_date}\".replace(\" \", \"_\")\n",
    "config = DEFAULT_CONFIG.copy()"
   ]
  },
  {
   "cell_type": "markdown",
   "id": "f0c0fb19-2cb4-4c9a-855c-ed01ce8148ff",
   "metadata": {},
   "source": [
    "### 2.7 Starting analysis"
   ]
  },
  {
   "cell_type": "code",
   "execution_count": 11,
   "id": "5ba5eb8d-4508-4764-8ce8-81feabbaa14a",
   "metadata": {},
   "outputs": [
    {
     "name": "stdout",
     "output_type": "stream",
     "text": [
      "Starting analysis for AMZN on 2025-08-19\n",
      "<thinking> \n",
      "To analyze the market for AMZN, I will first retrieve the stock price data using the `get_yfin_data_online` tool. After obtaining the data, I will select up to 8 complementary indicators to provide diverse insights without redundancy. These indicators will cover moving averages, MACD, momentum, volatility, and volume-based analysis. \n",
      "\n",
      "Here are the indicators I plan to use:\n",
      "1. close_50_sma - For medium-term trend analysis\n",
      "2. close_200_sma - For long-term trend confirmation\n",
      "3. close_10_ema - For short-term momentum shifts\n",
      "4. macd - Main MACD line showing momentum via EMA differences\n",
      "5. macdh - MACD Histogram showing momentum strength and early divergence signals\n",
      "6. rsi - Relative Strength Index for overbought/oversold conditions\n",
      "7. boll_ub and boll_lb - Bollinger Bands for volatility and breakout signals\n",
      "8. atr - Average True Range for volatility measurement and risk management\n",
      "\n",
      "I will then use the `get_stockstats_indicators_report_online` tool to retrieve the data for these indicators.\n",
      "</thinking>\n",
      "\n",
      "Tool #1: get_yfin_data_online\n",
      "\n",
      "Tool #2: get_stockstats_indicators_report_online\n",
      "\n",
      "Tool #3: get_stockstats_indicators_report_online\n",
      "\n",
      "Tool #4: get_stockstats_indicators_report_online\n",
      "\n",
      "Tool #5: get_stockstats_indicators_report_online\n",
      "\n",
      "Tool #6: get_stockstats_indicators_report_online\n",
      "\n",
      "Tool #7: get_stockstats_indicators_report_online\n",
      "\n",
      "Tool #8: get_stockstats_indicators_report_online\n",
      "\n",
      "Tool #9: get_stockstats_indicators_report_online\n",
      "\n",
      "Tool #10: get_stockstats_indicators_report_online\n",
      "Based on the retrieved data and the technical indicators, here is a detailed analysis of the market for AMZN as of the trade date 2025-08-19:\n",
      "\n",
      "### Detailed Technical Analysis\n",
      "\n",
      "#### Trend Identification and Momentum Assessment\n",
      "- **close_50_sma (50-period Simple Moving Average):** The 50 SMA is currently at 221.8986. AMZN's price is above this level, suggesting a medium-term uptrend.\n",
      "- **close_200_sma (200-period Simple Moving Average):** The 200 SMA is at 211.7014. AMZN's price is above this level, confirming a long-term uptrend.\n",
      "- **close_10_ema (10-period Exponential Moving Average):** The 10 EMA is at 226.7875, indicating a short-term uptrend. The price is also above this level, suggesting strong short-term momentum.\n",
      "- **macd (Moving Average Convergence Divergence):** The MACD line is at 1.7779, which is above zero, indicating positive momentum. The MACD histogram (macdh) is at 0.4835, showing positive momentum but with some slowing down.\n",
      "- **rsi (Relative Strength Index):** The RSI is at 54.8214, which is neutral, indicating neither overbought nor oversold conditions. This suggests a balanced market sentiment.\n",
      "\n",
      "#### Support/Resistance Levels\n",
      "- **boll_ub (Bollinger Upper Band):** The upper Bollinger Band is at 239.4089, indicating a potential resistance level.\n",
      "- **boll_lb (Bollinger Lower Band):** The lower Bollinger Band is at 212.3090, suggesting a potential support level.\n",
      "\n",
      "#### Volatility and Risk Assessment\n",
      "- **atr (Average True Range):** The ATR is at 4.9341, indicating moderate volatility. This can be used to set appropriate stop-loss levels.\n",
      "\n",
      "### Summary Table\n",
      "\n",
      "| Indicator        | Value      | Interpretation                                   |\n",
      "|------------------|------------|--------------------------------------------------|\n",
      "| close_50_sma     | 221.8986   | Medium-term uptrend                              |\n",
      "| close_200_sma    | 211.7014   | Long-term uptrend                                |\n",
      "| close_10_ema     | 226.7875   | Short-term uptrend                               |\n",
      "| macd             | 1.7779     | Positive momentum                                |\n",
      "| macdh             | 0.4835     | Positive momentum with some slowing down         |\n",
      "| rsi              | 54.8214    | Neutral market sentiment                         |\n",
      "| boll_ub          | 239.4089   | Potential resistance level                       |\n",
      "| boll_lb          | 212.3090   | Potential support level                          |\n",
      "| atr              | 4.9341     | Moderate volatility                              |\n",
      "\n",
      "### Actionable Insights\n",
      "1. **Trend Confirmation:** The price is above both the 50 SMA and 200 SMA, confirming an uptrend. The 10 EMA further supports this with its upward trajectory.\n",
      "2. **Momentum:** The MACD and MACD histogram indicate positive momentum, though the histogram suggests a slight slowdown.\n",
      "3. **Entry Points:** Consider entering long positions if the price approaches the lower Bollinger Band (212.3090) for potential support.\n",
      "4. **Exit Strategy:** Set a stop-loss below the lower Bollinger Band or use the ATR value (4.9341) to determine a suitable stop-loss level.\n",
      "5. **Risk Management:** Given the moderate volatility indicated by the ATR, adjust position sizes accordingly to manage risk.\n",
      "\n",
      "This analysis provides a comprehensive view of the current market conditions for AMZN, enabling informed trading decisions."
     ]
    }
   ],
   "source": [
    "print(f\"Starting analysis for {company_of_interest} on {trade_date}\")\n",
    "prompt = f\"Analyze the market for {company_of_interest} for the trade date {trade_date}\"\n",
    "result = market_agent(prompt)"
   ]
  },
  {
   "cell_type": "markdown",
   "id": "6684c95b-1385-439a-947b-658e3e7f3eeb",
   "metadata": {},
   "source": [
    "### 2.8 Save analysis result "
   ]
  },
  {
   "cell_type": "code",
   "execution_count": 12,
   "id": "88c7d042-c0f1-4403-9cf6-5765189bc552",
   "metadata": {},
   "outputs": [],
   "source": [
    "def save_as_file(text, working_dir, prefix='', file_name=''):\n",
    "    \"\"\"\n",
    "    Save text content to a file in the specified directory structure.\n",
    "    \n",
    "    Args:\n",
    "        text (str): Content to save\n",
    "        working_dir (str): Base working directory\n",
    "        prefix (str): Subdirectory prefix (usually ticker_date)\n",
    "        file_name (str): Name of the file to save\n",
    "    \"\"\"\n",
    "    # Create directory if it doesn't exist\n",
    "    full_dir = os.path.join(working_dir, prefix)\n",
    "    if not os.path.exists(full_dir):\n",
    "        os.makedirs(full_dir, exist_ok=True)\n",
    "    \n",
    "    # Write content to file\n",
    "    file_path = os.path.join(full_dir, file_name)\n",
    "    with open(file_path, \"w\", encoding='utf-8') as f:\n",
    "        f.write(text)"
   ]
  },
  {
   "cell_type": "code",
   "execution_count": 13,
   "id": "84432abb-5f8c-44ee-bd1d-7e4a0b3932b7",
   "metadata": {},
   "outputs": [],
   "source": [
    "save_as_file(str(result), working_dir, prefix, \"market_report.txt\")"
   ]
  },
  {
   "cell_type": "markdown",
   "id": "6ed64263-b74e-4fea-9d2b-dccd98bb0c0b",
   "metadata": {},
   "source": [
    "## 3 Complete Task 1"
   ]
  },
  {
   "cell_type": "markdown",
   "id": "089025a7-114b-4c37-8ea7-72a5022efae9",
   "metadata": {},
   "source": [
    "Retrieve the stock data just generated, the directory is located `./results/data_cache/`."
   ]
  },
  {
   "cell_type": "code",
   "execution_count": 14,
   "id": "c66ba9e4-9a7b-4c6b-8199-96f4633977d9",
   "metadata": {},
   "outputs": [],
   "source": [
    "stock_data_dir='./results/data_cache/'"
   ]
  },
  {
   "cell_type": "code",
   "execution_count": 18,
   "id": "06619ae9-555a-4e92-a130-053c48c6c67e",
   "metadata": {},
   "outputs": [
    {
     "name": "stdin",
     "output_type": "stream",
     "text": [
      "Enter the file name AMZN-YFin-data-2010-09-07-2025-09-07.csv\n"
     ]
    }
   ],
   "source": [
    "fn=input(\"Enter the file name\")"
   ]
  },
  {
   "cell_type": "markdown",
   "id": "57830ac0-9800-4481-925a-1c7aa35c4d5c",
   "metadata": {},
   "source": [
    "Display you just entered file name"
   ]
  },
  {
   "cell_type": "code",
   "execution_count": 19,
   "id": "f4662fb0-fc0d-417b-a5e0-93c6f9c51c09",
   "metadata": {},
   "outputs": [
    {
     "data": {
      "text/plain": [
       "'AMZN-YFin-data-2010-09-07-2025-09-07.csv'"
      ]
     },
     "execution_count": 19,
     "metadata": {},
     "output_type": "execute_result"
    }
   ],
   "source": [
    "fn"
   ]
  },
  {
   "cell_type": "markdown",
   "id": "d0bf2b3a-4ae9-407a-9c80-d9aca9279dd0",
   "metadata": {},
   "source": [
    "Display all data"
   ]
  },
  {
   "cell_type": "code",
   "execution_count": 20,
   "id": "d36793a3-a995-4fb1-9647-2427fe17393c",
   "metadata": {},
   "outputs": [],
   "source": [
    "import pandas as pd\n",
    "df = pd.read_csv(stock_data_dir+fn)"
   ]
  },
  {
   "cell_type": "code",
   "execution_count": 21,
   "id": "4923c642-2a25-46f5-99a4-a1d417a52665",
   "metadata": {},
   "outputs": [
    {
     "data": {
      "text/html": [
       "<div>\n",
       "<style scoped>\n",
       "    .dataframe tbody tr th:only-of-type {\n",
       "        vertical-align: middle;\n",
       "    }\n",
       "\n",
       "    .dataframe tbody tr th {\n",
       "        vertical-align: top;\n",
       "    }\n",
       "\n",
       "    .dataframe thead th {\n",
       "        text-align: right;\n",
       "    }\n",
       "</style>\n",
       "<table border=\"1\" class=\"dataframe\">\n",
       "  <thead>\n",
       "    <tr style=\"text-align: right;\">\n",
       "      <th></th>\n",
       "      <th>Date</th>\n",
       "      <th>Close</th>\n",
       "      <th>High</th>\n",
       "      <th>Low</th>\n",
       "      <th>Open</th>\n",
       "      <th>Volume</th>\n",
       "    </tr>\n",
       "  </thead>\n",
       "  <tbody>\n",
       "    <tr>\n",
       "      <th>0</th>\n",
       "      <td>2010-09-07</td>\n",
       "      <td>6.861000</td>\n",
       "      <td>6.930000</td>\n",
       "      <td>6.844500</td>\n",
       "      <td>6.878000</td>\n",
       "      <td>77660000</td>\n",
       "    </tr>\n",
       "    <tr>\n",
       "      <th>1</th>\n",
       "      <td>2010-09-08</td>\n",
       "      <td>6.957000</td>\n",
       "      <td>6.985000</td>\n",
       "      <td>6.822500</td>\n",
       "      <td>6.896500</td>\n",
       "      <td>116570000</td>\n",
       "    </tr>\n",
       "    <tr>\n",
       "      <th>2</th>\n",
       "      <td>2010-09-09</td>\n",
       "      <td>7.019000</td>\n",
       "      <td>7.068500</td>\n",
       "      <td>6.963000</td>\n",
       "      <td>7.019500</td>\n",
       "      <td>99160000</td>\n",
       "    </tr>\n",
       "    <tr>\n",
       "      <th>3</th>\n",
       "      <td>2010-09-10</td>\n",
       "      <td>7.122000</td>\n",
       "      <td>7.130000</td>\n",
       "      <td>7.002000</td>\n",
       "      <td>7.037500</td>\n",
       "      <td>100872000</td>\n",
       "    </tr>\n",
       "    <tr>\n",
       "      <th>4</th>\n",
       "      <td>2010-09-13</td>\n",
       "      <td>7.253500</td>\n",
       "      <td>7.287000</td>\n",
       "      <td>7.188000</td>\n",
       "      <td>7.203500</td>\n",
       "      <td>101548000</td>\n",
       "    </tr>\n",
       "    <tr>\n",
       "      <th>...</th>\n",
       "      <td>...</td>\n",
       "      <td>...</td>\n",
       "      <td>...</td>\n",
       "      <td>...</td>\n",
       "      <td>...</td>\n",
       "      <td>...</td>\n",
       "    </tr>\n",
       "    <tr>\n",
       "      <th>3768</th>\n",
       "      <td>2025-08-29</td>\n",
       "      <td>229.000000</td>\n",
       "      <td>231.809998</td>\n",
       "      <td>228.160004</td>\n",
       "      <td>231.320007</td>\n",
       "      <td>26199200</td>\n",
       "    </tr>\n",
       "    <tr>\n",
       "      <th>3769</th>\n",
       "      <td>2025-09-02</td>\n",
       "      <td>225.339996</td>\n",
       "      <td>226.169998</td>\n",
       "      <td>221.830002</td>\n",
       "      <td>223.520004</td>\n",
       "      <td>38843900</td>\n",
       "    </tr>\n",
       "    <tr>\n",
       "      <th>3770</th>\n",
       "      <td>2025-09-03</td>\n",
       "      <td>225.990005</td>\n",
       "      <td>227.169998</td>\n",
       "      <td>224.360001</td>\n",
       "      <td>225.210007</td>\n",
       "      <td>29223100</td>\n",
       "    </tr>\n",
       "    <tr>\n",
       "      <th>3771</th>\n",
       "      <td>2025-09-04</td>\n",
       "      <td>235.679993</td>\n",
       "      <td>235.770004</td>\n",
       "      <td>230.779999</td>\n",
       "      <td>231.190002</td>\n",
       "      <td>59391800</td>\n",
       "    </tr>\n",
       "    <tr>\n",
       "      <th>3772</th>\n",
       "      <td>2025-09-05</td>\n",
       "      <td>232.330002</td>\n",
       "      <td>236.000000</td>\n",
       "      <td>231.929993</td>\n",
       "      <td>235.190002</td>\n",
       "      <td>36694400</td>\n",
       "    </tr>\n",
       "  </tbody>\n",
       "</table>\n",
       "<p>3773 rows × 6 columns</p>\n",
       "</div>"
      ],
      "text/plain": [
       "            Date       Close        High         Low        Open     Volume\n",
       "0     2010-09-07    6.861000    6.930000    6.844500    6.878000   77660000\n",
       "1     2010-09-08    6.957000    6.985000    6.822500    6.896500  116570000\n",
       "2     2010-09-09    7.019000    7.068500    6.963000    7.019500   99160000\n",
       "3     2010-09-10    7.122000    7.130000    7.002000    7.037500  100872000\n",
       "4     2010-09-13    7.253500    7.287000    7.188000    7.203500  101548000\n",
       "...          ...         ...         ...         ...         ...        ...\n",
       "3768  2025-08-29  229.000000  231.809998  228.160004  231.320007   26199200\n",
       "3769  2025-09-02  225.339996  226.169998  221.830002  223.520004   38843900\n",
       "3770  2025-09-03  225.990005  227.169998  224.360001  225.210007   29223100\n",
       "3771  2025-09-04  235.679993  235.770004  230.779999  231.190002   59391800\n",
       "3772  2025-09-05  232.330002  236.000000  231.929993  235.190002   36694400\n",
       "\n",
       "[3773 rows x 6 columns]"
      ]
     },
     "execution_count": 21,
     "metadata": {},
     "output_type": "execute_result"
    }
   ],
   "source": [
    "df"
   ]
  },
  {
   "cell_type": "markdown",
   "id": "70698ff4-3fb5-4fb6-b324-fcca067904cd",
   "metadata": {},
   "source": [
    "Filter specified date stock information."
   ]
  },
  {
   "cell_type": "code",
   "execution_count": 22,
   "id": "3547dfca-fad7-4548-913f-a3e8c1199a25",
   "metadata": {},
   "outputs": [],
   "source": [
    "filtered_df = df[(df['Date'] == '2025-08-19') ]"
   ]
  },
  {
   "cell_type": "code",
   "execution_count": 23,
   "id": "00243ff1-0be3-40d0-94a9-ecb2a282d344",
   "metadata": {},
   "outputs": [
    {
     "data": {
      "text/html": [
       "<div>\n",
       "<style scoped>\n",
       "    .dataframe tbody tr th:only-of-type {\n",
       "        vertical-align: middle;\n",
       "    }\n",
       "\n",
       "    .dataframe tbody tr th {\n",
       "        vertical-align: top;\n",
       "    }\n",
       "\n",
       "    .dataframe thead th {\n",
       "        text-align: right;\n",
       "    }\n",
       "</style>\n",
       "<table border=\"1\" class=\"dataframe\">\n",
       "  <thead>\n",
       "    <tr style=\"text-align: right;\">\n",
       "      <th></th>\n",
       "      <th>Date</th>\n",
       "      <th>Close</th>\n",
       "      <th>High</th>\n",
       "      <th>Low</th>\n",
       "      <th>Open</th>\n",
       "      <th>Volume</th>\n",
       "    </tr>\n",
       "  </thead>\n",
       "  <tbody>\n",
       "    <tr>\n",
       "      <th>3760</th>\n",
       "      <td>2025-08-19</td>\n",
       "      <td>228.009995</td>\n",
       "      <td>230.529999</td>\n",
       "      <td>227.119995</td>\n",
       "      <td>230.089996</td>\n",
       "      <td>29891000</td>\n",
       "    </tr>\n",
       "  </tbody>\n",
       "</table>\n",
       "</div>"
      ],
      "text/plain": [
       "            Date       Close        High         Low        Open    Volume\n",
       "3760  2025-08-19  228.009995  230.529999  227.119995  230.089996  29891000"
      ]
     },
     "execution_count": 23,
     "metadata": {},
     "output_type": "execute_result"
    }
   ],
   "source": [
    "filtered_df"
   ]
  },
  {
   "cell_type": "markdown",
   "id": "530cb61c-216e-4a80-9db5-fab6b4aa4b72",
   "metadata": {},
   "source": [
    "According above python script and complete `Task 1`"
   ]
  },
  {
   "cell_type": "markdown",
   "id": "bcc55b36-595b-4c64-8340-9151c85dfbb6",
   "metadata": {},
   "source": [
    "### 4 Continue to complete news analysis"
   ]
  },
  {
   "cell_type": "markdown",
   "id": "8c65d051-4ccc-496d-b48b-4beb3b29ca33",
   "metadata": {},
   "source": [
    "The following function creates a News Analyst agent that uses a language model and selected news sources (real-time or cached) to analyze financial news, identify macroeconomic and geopolitical trends, assess market sentiment, and generate actionable insights for trading decisions based on a structured analysis framework."
   ]
  },
  {
   "cell_type": "code",
   "execution_count": 25,
   "id": "477dada2-0bd6-49df-b7ea-ca778d171acc",
   "metadata": {},
   "outputs": [],
   "source": [
    "from tools import (\n",
    "    get_global_news_openai,\n",
    "    get_google_news,\n",
    "    get_finnhub_news,\n",
    "    get_reddit_news,\n",
    ")\n",
    "\n",
    "\n",
    "def create_news_analyst(llm, online=False):\n",
    "    \"\"\"\n",
    "    Create a News Analyst agent for news analysis and macroeconomic trend evaluation.\n",
    "    \n",
    "    Args:\n",
    "        llm: The language model to use for the agent\n",
    "        online (bool): Whether to use real-time news (True) or cached news (False)\n",
    "        \n",
    "    Returns:\n",
    "        Agent: Configured News Analyst agent\n",
    "    \"\"\"\n",
    "    # Select news sources based on online/offline mode\n",
    "    if online:\n",
    "        # Use real-time news sources for current analysis\n",
    "        tools = [get_google_news]\n",
    "    else:\n",
    "        # Use cached news sources for historical analysis\n",
    "        tools = [\n",
    "            get_finnhub_news,    # Financial news from Finnhub\n",
    "            get_reddit_news,     # Social sentiment from Reddit\n",
    "            get_google_news,     # General news from Google\n",
    "        ]\n",
    "\n",
    "    # Define the agent's system prompt with comprehensive instructions\n",
    "    system_message = (\n",
    "        \"\"\"You are a News Analyst specializing in financial news analysis and macroeconomic research. \n",
    "        Your role is to analyze recent news and global trends to provide context for trading decisions.\n",
    "\n",
    "        **Key Responsibilities:**\n",
    "        1. Analyze recent news and events from the past week that impact financial markets\n",
    "        2. Identify macroeconomic trends and their potential market implications\n",
    "        3. Assess geopolitical events and their effects on different sectors\n",
    "        4. Evaluate market sentiment from news coverage and social media\n",
    "        5. Provide actionable insights for trading strategies\n",
    "\n",
    "        **Analysis Framework:**\n",
    "        \n",
    "        **Market-Moving Events:**\n",
    "        - Central bank announcements and monetary policy changes\n",
    "        - Economic data releases (GDP, inflation, employment, etc.)\n",
    "        - Corporate earnings and guidance updates\n",
    "        - Geopolitical developments and trade relations\n",
    "        - Regulatory changes and policy announcements\n",
    "\n",
    "        **Sector-Specific Impact:**\n",
    "        - Technology: Innovation, regulation, competitive dynamics\n",
    "        - Healthcare: Drug approvals, policy changes, demographic trends\n",
    "        - Energy: Commodity prices, environmental policies, supply chain\n",
    "        - Financial: Interest rates, regulatory changes, credit conditions\n",
    "        - Consumer: Spending patterns, inflation impact, demographic shifts\n",
    "\n",
    "        **Sentiment Analysis:**\n",
    "        - Overall market sentiment (bullish, bearish, neutral)\n",
    "        - Investor confidence indicators\n",
    "        - Risk appetite and flight-to-quality movements\n",
    "        - Social media sentiment and retail investor behavior\n",
    "\n",
    "        **Global Context:**\n",
    "        - International market developments\n",
    "        - Currency movements and their implications\n",
    "        - Cross-border trade and supply chain impacts\n",
    "        - Regional economic conditions and policies\n",
    "\n",
    "        **Analysis Guidelines:**\n",
    "        1. Focus on news with clear market implications\n",
    "        2. Distinguish between short-term noise and long-term trends\n",
    "        3. Provide specific, actionable insights rather than generic observations\n",
    "        4. Consider both direct and indirect effects on different asset classes\n",
    "        5. Assess the reliability and credibility of news sources\n",
    "        6. Include a markdown table summarizing key findings and implications\n",
    "\n",
    "        **Output Requirements:**\n",
    "        - Comprehensive analysis of market-relevant news and trends\n",
    "        - Clear identification of potential trading opportunities and risks\n",
    "        - Sector-specific impact assessment\n",
    "        - Timeline of key events and their market implications\n",
    "        - Summary table with key news items, impact assessment, and trading implications\n",
    "        \"\"\"\n",
    "    )\n",
    "\n",
    "    # Create and configure the agent\n",
    "    agent = Agent(\n",
    "        model=llm,\n",
    "        tools=tools,\n",
    "        name=\"News Analyst\",\n",
    "        system_prompt=system_message,\n",
    "        load_tools_from_directory=False,\n",
    "    )\n",
    "\n",
    "    return agent"
   ]
  },
  {
   "cell_type": "code",
   "execution_count": 26,
   "id": "22dc9dc2-50cd-4e9b-b029-32cdeb9d6dd0",
   "metadata": {},
   "outputs": [],
   "source": [
    "news_analyst_agent = create_news_analyst(llm, online)"
   ]
  },
  {
   "cell_type": "markdown",
   "id": "d4c215e3-af76-4350-a0f2-9f27aae6f070",
   "metadata": {},
   "source": [
    "Run the news analysis for the target company on the given trade date, generate a report, save it to a file, and confirm completion."
   ]
  },
  {
   "cell_type": "code",
   "execution_count": 28,
   "id": "9c72fe9f-bebe-4280-9b45-5cdcb4c5e027",
   "metadata": {},
   "outputs": [
    {
     "name": "stdout",
     "output_type": "stream",
     "text": [
      "Step 2: Running news analysis...\n",
      "<thinking> To analyze the news for Amazon (AMZN) for the trade date 2025-08-19, I will first gather the latest news related to Amazon from the past week. This will help me identify any market-moving events, sector-specific impacts, and overall market sentiment. </thinking> \n",
      "Tool #2: get_google_news\n",
      "<thinking> Based on the retrieved news articles, I will now analyze the news for Amazon (AMZN) for the trade date 2025-08-19. I will identify market-moving events, sector-specific impacts, and overall market sentiment. </thinking>\n",
      "\n",
      "### Amazon (AMZN) News Analysis for Trade Date 2025-08-19\n",
      "\n",
      "#### Market-Moving Events:\n",
      "1. **AWS and OpenAI Collaboration**:\n",
      "   - **Event**: Amazon Web Services (AWS) announced that OpenAI open weight models are available via Amazon Bedrock and Amazon SageMaker AI.\n",
      "   - **Implication**: This collaboration could enhance AWS's AI capabilities, potentially attracting more customers and increasing revenue. It may also positively impact Amazon's stock price due to the perceived value addition.\n",
      "\n",
      "2. **Amazon Devices & Services Manufacturing Advancement**:\n",
      "   - **Event**: Amazon Devices & Services achieved a major step toward zero-touch manufacturing with NVIDIA AI and Digital Twins.\n",
      "   - **Implication**: This advancement could lead to increased efficiency and reduced costs in manufacturing, which may positively impact Amazon's profitability and stock price.\n",
      "\n",
      "3. **Amazon Prime Air Drone Display**:\n",
      "   - **Event**: Amazon Prime Air will display their MK30 drones as part of the Kansas City-area service.\n",
      "   - **Implication**: This event highlights Amazon's continued investment in drone technology for delivery, which could be a significant growth area in the future. It may generate positive sentiment among investors.\n",
      "\n",
      "#### Sector-Specific Impact:\n",
      "- **Technology**: The collaboration with OpenAI and advancements in manufacturing using AI are significant for Amazon's technology sector. These developments could enhance AWS's competitive position and drive growth.\n",
      "- **Healthcare**: The launch of Clinique in the Amazon.com.mx Premium Beauty Store indicates expansion in the healthcare and beauty sector, potentially opening new revenue streams.\n",
      "- **Energy**: The news about the Amazon Rainforest approaching a point of no return could have indirect implications for Amazon's sustainability efforts and public perception.\n",
      "\n",
      "#### Sentiment Analysis:\n",
      "- **Overall Market Sentiment**: The news items generally convey positive developments for Amazon, particularly in its technology and manufacturing sectors. This could lead to a bullish sentiment among investors.\n",
      "- **Investor Confidence Indicators**: The collaboration with OpenAI and advancements in manufacturing are likely to boost investor confidence in Amazon's innovation and growth potential.\n",
      "\n",
      "#### Global Context:\n",
      "- **International Market Developments**: The launch of Clinique in the Amazon.com.mx Premium Beauty Store indicates Amazon's expansion into new international markets, which could have positive implications for its global revenue.\n",
      "\n",
      "### Summary Table\n",
      "\n",
      "| News Item                                                                 | Impact Assessment                  | Trading Implications                  |\n",
      "|---------------------------------------------------------------------------|------------------------------------|---------------------------------------|\n",
      "| AWS and OpenAI Collaboration                                              | Positive                           | Potential stock price increase       |\n",
      "| Amazon Devices & Services Manufacturing Advancement                       | Positive                           | Potential profitability improvement   |\n",
      "| Amazon Prime Air Drone Display                                            | Positive                           | Enhanced investor sentiment          |\n",
      "| The Amazon Rainforest Approaches a Point of No Return                     | Neutral/Negative (indirect)        | Potential reputational risk           |\n",
      "| SpaceX launches Amazon’s Project Kuiper satellites                        | Positive                           | Potential growth in satellite internet services |\n",
      "| Clinique Launches in the Amazon.com.mx Premium Beauty Store               | Positive                           | Expansion into new international market |\n",
      "| Protecting the Amazon's critical wildlife corridors                       | Neutral                            | Indirect environmental impact         |\n",
      "| How MIT LGO alumni are powering Amazon’s global operations                | Positive                           | Enhanced operational efficiency       |\n",
      "| Amazon Prime Air to display drones Wednesday as part of Kansas City-area service | Positive | Enhanced investor sentiment |\n",
      "\n",
      "### Actionable Insights for Trading Strategies:\n",
      "- **Buy**: Consider buying Amazon stock due to positive developments in AWS, manufacturing advancements, and expansion into new markets.\n",
      "- **Monitor**: Keep an eye on any further developments related to the Amazon Rainforest and their impact on Amazon's sustainability initiatives.\n",
      "- **Long-Term Hold**: Given the positive trends in technology and international expansion, Amazon could be a strong long-term hold.News analysis completed.\n"
     ]
    }
   ],
   "source": [
    "print(\"Step 2: Running news analysis...\")\n",
    "prompt = f\"Analyze the news for {company_of_interest} for the trade date {trade_date}\"\n",
    "result = news_analyst_agent(prompt)\n",
    "save_as_file(str(result), working_dir,prefix, \"news_report.txt\")\n",
    "print(\"News analysis completed.\")"
   ]
  },
  {
   "cell_type": "markdown",
   "id": "b1d765ba-e38c-427e-8ebd-47be7c095873",
   "metadata": {},
   "source": [
    "### 5 Congraduations! Now you can continue to Challege 2."
   ]
  },
  {
   "cell_type": "markdown",
   "id": "0b26dc3f-b6e6-4b83-977e-3bff4e3f5ff0",
   "metadata": {},
   "source": []
  }
 ],
 "metadata": {
  "kernelspec": {
   "display_name": "conda_python3",
   "language": "python",
   "name": "conda_python3"
  },
  "language_info": {
   "codemirror_mode": {
    "name": "ipython",
    "version": 3
   },
   "file_extension": ".py",
   "mimetype": "text/x-python",
   "name": "python",
   "nbconvert_exporter": "python",
   "pygments_lexer": "ipython3",
   "version": "3.10.18"
  }
 },
 "nbformat": 4,
 "nbformat_minor": 5
}
