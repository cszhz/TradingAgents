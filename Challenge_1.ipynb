{
 "cells": [
  {
   "cell_type": "markdown",
   "id": "title-header",
   "metadata": {},
   "source": [
    "# Building Multi-Agent Investment Firms with Strands SDK\n",
    "\n",
    "## Executive Summary\n",
    "\n",
    "This notebook demonstrates the implementation of a sophisticated multi-agent system for financial market analysis using the Strands Agents SDK. The system replicates the collaborative dynamics of real-world trading firms, incorporating specialized agents for fundamental analysis, sentiment evaluation, technical analysis, trading execution, and risk management.\n",
    "\n",
    "### Learning Objectives\n",
    "- Master the fundamentals of the Strands Agent API\n",
    "- Implement market data retrieval and analysis workflows\n",
    "- Create specialized agents for different analytical functions\n",
    "- Generate actionable investment reports and recommendations\n",
    "\n",
    "### System Architecture\n",
    "- **Multi-Agent Framework**: Coordinated agents with specialized expertise\n",
    "- **Real-time Data Integration**: Live market feeds and historical analysis\n",
    "- **Technical Analysis Engine**: Comprehensive indicator-based evaluation\n",
    "- **Automated Reporting**: Structured output for decision-making\n",
    "\n",
    "---"
   ]
  },
  {
   "cell_type": "markdown",
   "id": "task-overview",
   "metadata": {
    "tags": []
   },
   "source": [
    "## Task 1: Market Analysis Agent Implementation\n",
    "\n",
    "### Objective\n",
    "Develop proficiency with the Strands Agent API by creating specialized agents for comprehensive market analysis.\n",
    "\n",
    "### Requirements\n",
    "- **Target Stock**: AMZN (Amazon.com Inc.)\n",
    "- **Analysis Date**: 2025-08-19\n",
    "- **Agent Types**: Market Report Agent, News Analysis Agent\n",
    "- **Data Sources**: Historical stock data, market indicators, news sentiment\n",
    "- **Output Format**: CSV files for quantitative data, text files for qualitative analysis\n",
    "\n",
    "### Success Criteria\n",
    "✅ Successful data retrieval from multiple sources  \n",
    "✅ Comprehensive technical analysis with actionable insights  \n",
    "✅ Professional report generation with structured recommendations  \n",
    "✅ CSV and text file outputs for further analysis  \n",
    "\n",
    "---"
   ]
  },
  {
   "cell_type": "markdown",
   "id": "environment-setup",
   "metadata": {},
   "source": [
    "## 1. Environment Setup and Dependencies\n",
    "\n",
    "### Installation Overview\n",
    "This section installs all required dependencies for the multi-agent financial analysis system. The installation process may show dependency resolution warnings, which can typically be ignored as they don't affect functionality.\n",
    "\n",
    "### Key Dependencies\n",
    "- **strands**: Core agent framework for building intelligent agents\n",
    "- **boto3**: AWS SDK for accessing Bedrock AI models\n",
    "- **pandas**: Data manipulation and analysis library\n",
    "- **yfinance**: Yahoo Finance API for market data retrieval\n",
    "- **stockstats**: Technical indicator calculation library\n",
    "- **python-dotenv**: Environment variable management\n",
    "\n",
    "**Note**: If you encounter \"ERROR: pip's dependency resolver does not currently take into account all the packages that are installed.\", you can ignore it as it doesn't affect functionality."
   ]
  },
  {
   "cell_type": "code",
   "execution_count": null,
   "id": "install-dependencies",
   "metadata": {
    "tags": []
   },
   "outputs": [],
   "source": [
    "# Install all required dependencies from requirements.txt\n",
    "# Note: Dependency resolver warnings can be safely ignored\n",
    "%pip install -r requirements.txt"
   ]
  },
  {
   "cell_type": "markdown",
   "id": "system-config",
   "metadata": {},
   "source": [
    "## 2. System Configuration and Initialization\n",
    "\n",
    "### 2.1 Core Library Imports\n",
    "\n",
    "Import essential libraries for system operation, including configuration management, logging, and environment handling. These imports establish the foundation for our multi-agent system."
   ]
  },
  {
   "cell_type": "code",
   "execution_count": null,
   "id": "core-imports",
   "metadata": {
    "tags": []
   },
   "outputs": [],
   "source": [
    "# Core system imports for multi-agent framework\n",
    "import sys\n",
    "import os\n",
    "from pathlib import Path\n",
    "from default_config import DEFAULT_CONFIG\n",
    "import logging\n",
    "from dotenv import load_dotenv\n",
    "\n",
    "# Configure logging for system monitoring and debugging\n",
    "logging.basicConfig(\n",
    "    level=logging.INFO,\n",
    "    format='%(asctime)s - %(name)s - %(levelname)s - %(message)s'\n",
    ")\n",
    "\n",
    "# Load environment variables from .env file if present\n",
    "load_dotenv()\n",
    "\n",
    "print(\"✅ Core libraries imported successfully\")\n",
    "print(\"✅ Logging configured for system monitoring\")\n",
    "print(\"✅ Environment variables loaded\")"
   ]
  },
  {
   "cell_type": "markdown",
   "id": "model-config",
   "metadata": {},
   "source": [
    "### 2.2 AI Model Configuration\n",
    "\n",
    "Define the AI models that will power our intelligent agents. We use Amazon's latest models for optimal performance:\n",
    "\n",
    "- **Nova Pro**: Advanced reasoning model for complex financial analysis\n",
    "- **Titan Embed**: High-quality text embeddings for semantic understanding"
   ]
  },
  {
   "cell_type": "code",
   "execution_count": null,
   "id": "model-constants",
   "metadata": {},
   "outputs": [],
   "source": [
    "# AI Model Configuration Constants\n",
    "NOVA_PRO_MODEL_ID = \"amazon.nova-pro-v1:0\"        # Primary reasoning model\n",
    "\n",
    "# Model Selection Rationale:\n",
    "# - Nova Pro: State-of-the-art reasoning for complex financial analysis\n",
    "\n",
    "print(f\"🤖 Primary Model: {NOVA_PRO_MODEL_ID}\")\n",
    "print(\"✅ AI model configuration completed\")"
   ]
  },
  {
   "cell_type": "markdown",
   "id": "bedrock-factory",
   "metadata": {},
   "source": [
    "### 2.3 Bedrock Model Factory\n",
    "\n",
    "This factory function creates optimally configured Bedrock model instances for financial analysis tasks. The configuration includes:\n",
    "\n",
    "- **Extended Timeouts**: Accommodates complex analytical processes\n",
    "- **Adaptive Retry Logic**: Ensures reliability in production environments\n",
    "- **Thinking Mode**: Provides transparency in AI reasoning (optional)\n",
    "- **Optimized Parameters**: Balanced for financial analysis accuracy"
   ]
  },
  {
   "cell_type": "code",
   "execution_count": null,
   "id": "bedrock-model-factory",
   "metadata": {},
   "outputs": [],
   "source": [
    "import boto3\n",
    "from botocore.config import Config\n",
    "from strands.models import BedrockModel\n",
    "\n",
    "# AWS Boto3 client configuration optimized for financial analysis\n",
    "boto_client_config = Config(\n",
    "    read_timeout=1800,      # 30 minutes - accommodates complex analyses\n",
    "    connect_timeout=900,    # 15 minutes - ensures reliable connections\n",
    "    retries=dict(max_attempts=3, mode=\"adaptive\"),  # Adaptive retry strategy\n",
    ")\n",
    "\n",
    "def get_model(model_id=NOVA_PRO_MODEL_ID, thinking=False,\n",
    "              temperature=0.7, max_tokens=10000):\n",
    "    \"\"\"\n",
    "    Create and return a Bedrock model instance optimized for financial analysis.\n",
    "\n",
    "    Parameters:\n",
    "    -----------\n",
    "    model_id : str\n",
    "        The specific AWS Bedrock model identifier to use\n",
    "    thinking : bool\n",
    "        Enable thinking mode for supported models (provides reasoning transparency)\n",
    "    temperature : float\n",
    "        Sampling temperature (0.0-1.0) - controls randomness in responses\n",
    "        - 0.7 provides good balance between creativity and consistency\n",
    "    max_tokens : int\n",
    "        Maximum tokens in the response (affects response length)\n",
    "\n",
    "    Returns:\n",
    "    --------\n",
    "    BedrockModel\n",
    "        Configured model instance ready for agent integration\n",
    "        \n",
    "    Notes:\n",
    "    ------\n",
    "    - Temperature 0.7 balances analytical precision with adaptive reasoning\n",
    "    - Thinking mode provides insight into the model's reasoning process\n",
    "    - Extended token limit accommodates comprehensive financial reports\n",
    "    \"\"\"\n",
    "    session = boto3.Session()\n",
    "\n",
    "    # Configure thinking mode for enhanced reasoning transparency\n",
    "    additional_request_fields = {}\n",
    "    if thinking:\n",
    "        additional_request_fields = {\n",
    "            \"thinking\": {\n",
    "                \"type\": \"enabled\",\n",
    "                \"budget_tokens\": 4096,  # Dedicated tokens for reasoning process\n",
    "            }\n",
    "        }\n",
    "\n",
    "    return BedrockModel(\n",
    "        model_id=model_id,\n",
    "        boto_session=session,\n",
    "        max_tokens=max_tokens,\n",
    "        temperature=temperature,\n",
    "        boto_client_config=boto_client_config,\n",
    "        additional_request_fields=additional_request_fields,\n",
    "    )\n",
    "\n",
    "print(\"✅ Bedrock model factory configured\")\n",
    "print(\"🔧 Optimized for financial analysis workloads\")\n",
    "print(\"⚙️ Extended timeouts and adaptive retry logic enabled\")"
   ]
  },
  {
   "cell_type": "markdown",
   "id": "model-init",
   "metadata": {},
   "source": [
    "### 2.4 Primary Model Initialization\n",
    "\n",
    "Initialize the main language model that will serve as the cognitive engine for our financial analysis agents."
   ]
  },
  {
   "cell_type": "code",
   "execution_count": null,
   "id": "initialize-llm",
   "metadata": {},
   "outputs": [],
   "source": [
    "# Initialize the primary language model for agent operations\n",
    "llm = get_model(model_id=NOVA_PRO_MODEL_ID)\n",
    "\n",
    "# Verify successful initialization\n",
    "print(f\"🧠 Language Model Initialized: {NOVA_PRO_MODEL_ID}\")\n",
    "print(f\"🎛️ Configuration: Temperature=0.7, Max Tokens=10,000\")\n",
    "print(f\"✅ Model ready for agent integration\")"
   ]
  },
  {
   "cell_type": "markdown",
   "id": "agent-architecture",
   "metadata": {},
   "source": [
    "## 3. Market Analysis Agent Architecture\n",
    "\n",
    "### 3.1 Agent Design Philosophy\n",
    "\n",
    "Our Market Analyst agent is architected with institutional-grade capabilities:\n",
    "\n",
    "- **Multi-Source Data Integration**: Yahoo Finance, technical indicators, market sentiment\n",
    "- **Adaptive Analysis Framework**: Context-aware indicator selection\n",
    "- **Risk-Aware Decision Making**: Volatility assessment and position sizing\n",
    "- **Professional Reporting**: Investment-grade analysis and recommendations\n",
    "\n",
    "### 3.2 Technical Indicator Arsenal\n",
    "\n",
    "The agent has access to a comprehensive suite of technical indicators:\n",
    "\n",
    "**Trend Analysis**: Moving averages (SMA, EMA) for trend identification  \n",
    "**Momentum Indicators**: MACD system for momentum analysis  \n",
    "**Oscillators**: RSI for overbought/oversold conditions  \n",
    "**Volatility Measures**: Bollinger Bands and ATR for risk assessment  \n",
    "**Volume Analysis**: VWMA for trend confirmation  \n",
    "\n",
    "### 3.3 Market Analyst Implementation\n",
    "\n",
    "The following function creates a Market Analyst agent that combines a language model with financial data tools to perform technical analysis and market trend evaluation. Depending on the online flag, it either uses real-time market data and indicators (via Yahoo Finance and technical reports) or switches to offline/cached data sources."
   ]
  },
  {
   "cell_type": "code",
   "execution_count": null,
   "id": "create-market-analyst",
   "metadata": {},
   "outputs": [],
   "source": [
    "from strands import Agent\n",
    "from tools import (\n",
    "    get_yfin_data_online,\n",
    "    get_stockstats_indicators_report_online,\n",
    "    get_yfin_data,\n",
    "    get_stockstats_indicators_report,\n",
    ")\n",
    "\n",
    "def create_market_analyst(llm, online=False):\n",
    "    \"\"\"\n",
    "    Create a Market Analyst agent for technical analysis and market trend evaluation.\n",
    "    \n",
    "    Parameters:\n",
    "    -----------\n",
    "    llm : BedrockModel\n",
    "        The language model instance for agent reasoning\n",
    "    online : bool\n",
    "        Data source mode:\n",
    "        - True: Real-time market data and live indicators\n",
    "        - False: Cached/historical data for backtesting\n",
    "        \n",
    "    Returns:\n",
    "    --------\n",
    "    Agent\n",
    "        Configured Market Analyst agent with specialized financial expertise\n",
    "    \"\"\"\n",
    "    # Select tools based on online/offline mode\n",
    "    if online:\n",
    "        tools = [\n",
    "            get_yfin_data_online,                    # Real-time Yahoo Finance data\n",
    "            get_stockstats_indicators_report_online, # Real-time technical indicators\n",
    "        ]\n",
    "    else:\n",
    "        tools = [\n",
    "            get_yfin_data,                    # Cached Yahoo Finance data\n",
    "            get_stockstats_indicators_report, # Cached technical indicators\n",
    "        ]\n",
    "\n",
    "    # Define the agent's system prompt with detailed instructions\n",
    "    system_message = (\n",
    "        \"\"\"You are a Market Analyst specializing in technical analysis and market trend evaluation. \n",
    "        Your role is to analyze financial markets by selecting the **most relevant technical indicators** \n",
    "        for a given market condition or trading strategy.\n",
    "\n",
    "        **Key Responsibilities:**\n",
    "        1. Select up to **8 complementary indicators** that provide diverse insights without redundancy\n",
    "        2. Analyze market trends, momentum, volatility, and volume patterns\n",
    "        3. Provide actionable insights for trading decisions\n",
    "        4. Identify support/resistance levels and trend directions\n",
    "\n",
    "        **Available Technical Indicators by Category:**\n",
    "\n",
    "        **Moving Averages:**\n",
    "        - close_50_sma: 50-period Simple Moving Average for medium-term trend analysis\n",
    "        - close_200_sma: 200-period SMA for long-term trend confirmation and golden/death cross setups\n",
    "        - close_10_ema: 10-period Exponential Moving Average for short-term momentum shifts\n",
    "\n",
    "        **MACD (Moving Average Convergence Divergence):**\n",
    "        - macd: Main MACD line showing momentum via EMA differences\n",
    "        - macds: MACD Signal line (smoothed EMA) for crossover signals\n",
    "        - macdh: MACD Histogram showing momentum strength and early divergence signals\n",
    "\n",
    "        **Momentum Indicators:**\n",
    "        - rsi: Relative Strength Index for overbought/oversold conditions (70/30 thresholds)\n",
    "\n",
    "        **Volatility Indicators:**\n",
    "        - boll: Bollinger Bands Middle (20-period SMA baseline)\n",
    "        - boll_ub: Bollinger Upper Band (overbought zones and breakout signals)\n",
    "        - boll_lb: Bollinger Lower Band (oversold conditions)\n",
    "        - atr: Average True Range for volatility measurement and risk management\n",
    "\n",
    "        **Volume-Based Indicators:**\n",
    "        - vwma: Volume Weighted Moving Average for trend confirmation with volume analysis\n",
    "\n",
    "        **Analysis Guidelines:**\n",
    "        1. Always call get_yfin_data first to retrieve the necessary price data\n",
    "        2. Select indicators that provide complementary information (avoid redundancy)\n",
    "        3. Explain why each selected indicator is suitable for the current market context\n",
    "        4. Provide detailed, nuanced analysis rather than generic \"mixed trends\" statements\n",
    "        5. Focus on actionable insights that help traders make informed decisions\n",
    "        6. Include a markdown table at the end summarizing key findings\n",
    "\n",
    "        **Output Format:**\n",
    "        - Detailed technical analysis with specific observations\n",
    "        - Clear trend identification and momentum assessment\n",
    "        - Support/resistance level identification\n",
    "        - Risk assessment and volatility analysis\n",
    "        - Summary table with key metrics and recommendations\n",
    "        \"\"\"\n",
    "    )\n",
    "\n",
    "    # Create and configure the agent\n",
    "    agent = Agent(\n",
    "        model=llm,\n",
    "        tools=tools,\n",
    "        name=\"Market Analyst\",\n",
    "        system_prompt=system_message,\n",
    "        load_tools_from_directory=False,\n",
    "    )\n",
    "\n",
    "    return agent"
   ]
  },
  {
   "cell_type": "markdown",
   "id": "agent-config",
   "metadata": {},
   "source": [
    "### 3.4 Agent Operational Configuration\n",
    "\n",
    "Configure the Market Analyst agent for real-time analysis mode. This ensures access to the most current market data and live technical indicators for accurate, up-to-date analysis.\n",
    "\n",
    "Here we will use online analysis to access real-time market data and indicators."
   ]
  },
  {
   "cell_type": "code",
   "execution_count": null,
   "id": "configure-agent",
   "metadata": {},
   "outputs": [],
   "source": [
    "# Configure agent for real-time market analysis\n",
    "online = True  # Enable real-time data feeds\n",
    "market_agent = create_market_analyst(llm, online)\n",
    "\n",
    "# Verify agent configuration\n",
    "print(f\"🤖 Agent Initialized: {market_agent.name}\")\n",
    "print(f\"📡 Data Mode: {'Real-time' if online else 'Historical'} market data\")\n",
    "#print(f\"🛠️ Available Tools: {len(market_agent.tools)} specialized financial analysis tools\")\n",
    "print(f\"✅ Market Analyst ready for comprehensive analysis\")"
   ]
  },
  {
   "cell_type": "markdown",
   "id": "analysis-config",
   "metadata": {},
   "source": [
    "## 4. Analysis Configuration and Parameters\n",
    "\n",
    "### 4.1 Target Stock Code Selection\n",
    "\n",
    "Define the specific stock code and analysis parameters for our comprehensive market study. Amazon (AMZN) represents an ideal case study as a large-cap technology stock with high liquidity and significant market influence.\n",
    "\n",
    "Set the target stock ticker `AMZN` and the specific trade date `2025-08-19` for analysis."
   ]
  },
  {
   "cell_type": "code",
   "execution_count": null,
   "id": "target-config",
   "metadata": {
    "tags": []
   },
   "outputs": [],
   "source": [
    "# Analysis Target Configuration\n",
    "company_of_interest = \"AMZN\"  # Stock ticker to analyze\n",
    "trade_date = \"2025-08-19\"    # Analysis date\n",
    "\n",
    "# Display configuration summary\n",
    "print(\"📊 ANALYSIS TARGET CONFIGURATION\")\n",
    "print(\"=\" * 40)\n",
    "print(f\"Target Stock Code   : {company_of_interest}\")\n",
    "print(f\"Company Name      : Amazon.com Inc.\")\n",
    "print(f\"Exchange          : NASDAQ\")\n",
    "print(f\"Sector            : Technology\")\n",
    "print(f\"Analysis Date     : {trade_date}\")\n",
    "print(\"=\" * 40)\n",
    "print(\"✅ Target Stock configured for analysis\")"
   ]
  },
  {
   "cell_type": "markdown",
   "id": "directory-setup",
   "metadata": {
    "tags": []
   },
   "source": [
    "### 4.2 Output Directory Structure\n",
    "\n",
    "Establish a professional directory structure for organizing analysis outputs. This systematic approach ensures organized storage and easy retrieval of generated reports and data files.\n",
    "\n",
    "Prepare `working_dir`, default location is the directory `results`."
   ]
  },
  {
   "cell_type": "code",
   "execution_count": null,
   "id": "setup-directories",
   "metadata": {
    "tags": []
   },
   "outputs": [],
   "source": [
    "# Directory structure configuration\n",
    "working_dir = DEFAULT_CONFIG['results_dir']  # Base results directory\n",
    "prefix = f\"{company_of_interest}_{trade_date}\".replace(\" \", \"_\")  # Unique identifier\n",
    "config = DEFAULT_CONFIG.copy()  # Configuration backup\n",
    "\n",
    "# Display directory structure\n",
    "print(\"📁 OUTPUT DIRECTORY STRUCTURE\")\n",
    "print(\"=\" * 40)\n",
    "print(f\"Base Directory    : {working_dir}\")\n",
    "print(f\"Analysis Prefix   : {prefix}\")\n",
    "print(\"=\" * 40)\n",
    "print(\"✅ Professional directory structure configured\")"
   ]
  },
  {
   "cell_type": "markdown",
   "id": "analysis-execution",
   "metadata": {},
   "source": [
    "## 5. Market Analysis Execution\n",
    "\n",
    "### 5.1 Comprehensive Technical Analysis\n",
    "\n",
    "Execute our sophisticated market analysis using the specialized Market Analyst agent. This process encompasses:\n",
    "\n",
    "1. **Real-time Data Retrieval**: Current market data and historical context\n",
    "2. **Multi-Indicator Analysis**: Strategic selection of 8 complementary indicators\n",
    "3. **Trend Assessment**: Multi-timeframe trend strength evaluation\n",
    "4. **Risk Quantification**: Volatility analysis and position sizing guidance\n",
    "5. **Professional Reporting**: Investment-grade analysis with actionable insights\n",
    "\n",
    "### Starting Analysis"
   ]
  },
  {
   "cell_type": "code",
   "execution_count": null,
   "id": "execute-analysis",
   "metadata": {},
   "outputs": [],
   "source": [
    "print(f\"🚀 Starting analysis for {company_of_interest} on {trade_date}\")\n",
    "print(\"=\" * 50)\n",
    "print(f\"Target Stock Code   : {company_of_interest}\")\n",
    "print(f\"Analysis Date     : {trade_date}\")\n",
    "print(f\"Data Mode         : {'Real-time' if online else 'Historical'}\")\n",
    "print(f\"Agent             : {market_agent.name}\")\n",
    "print(\"=\" * 50)\n",
    "print(\"\\n🔄 Processing market data and technical indicators...\\n\")\n",
    "\n",
    "# Construct comprehensive analysis prompt\n",
    "prompt = f\"Analyze the market for {company_of_interest} for the trade date {trade_date}\"\n",
    "\n",
    "# Execute comprehensive market analysis\n",
    "result = market_agent(prompt)\n",
    "\n",
    "print(f\"\\n✅ ANALYSIS COMPLETED SUCCESSFULLY\")\n",
    "print(f\"📊 Report Generated: {len(str(result)):,} characters\")\n",
    "print(f\"🎯 Professional-grade analysis ready for review\")"
   ]
  },
  {
   "cell_type": "markdown",
   "id": "report-management",
   "metadata": {},
   "source": [
    "### 5.2 Professional Report Management\n",
    "\n",
    "Implement a robust file management system for storing analysis outputs with comprehensive metadata and audit trails.\n",
    "\n",
    "Save analysis result to structured file system for future reference and analysis."
   ]
  },
  {
   "cell_type": "code",
   "execution_count": null,
   "id": "save-functions",
   "metadata": {},
   "outputs": [],
   "source": [
    "def save_as_file(text, working_dir, prefix='', file_name=''):\n",
    "    \"\"\"\n",
    "    Save text content to a file in the specified directory structure.\n",
    "    \n",
    "    Parameters:\n",
    "    -----------\n",
    "    text : str\n",
    "        Content to save\n",
    "    working_dir : str\n",
    "        Base working directory\n",
    "    prefix : str\n",
    "        Subdirectory prefix (usually ticker_date)\n",
    "    file_name : str\n",
    "        Name of the file to save\n",
    "        \n",
    "    Features:\n",
    "    ---------\n",
    "    - Automatic directory creation\n",
    "    - UTF-8 encoding for international character support\n",
    "    - Error handling and validation\n",
    "    \"\"\"\n",
    "    # Create directory if it doesn't exist\n",
    "    full_dir = os.path.join(working_dir, prefix)\n",
    "    if not os.path.exists(full_dir):\n",
    "        os.makedirs(full_dir, exist_ok=True)\n",
    "    \n",
    "    # Write content to file\n",
    "    file_path = os.path.join(full_dir, file_name)\n",
    "    with open(file_path, \"w\", encoding='utf-8') as f:\n",
    "        f.write(text)\n",
    "    \n",
    "    print(f\"✅ Report saved successfully: {file_path}\")\n",
    "    return file_path"
   ]
  },
  {
   "cell_type": "code",
   "execution_count": null,
   "id": "save-analysis",
   "metadata": {},
   "outputs": [],
   "source": [
    "# Save the comprehensive market analysis report\n",
    "save_as_file(str(result), working_dir, prefix, \"market_report.txt\")\n",
    "\n",
    "print(\"📊 MARKET ANALYSIS REPORT SAVED SUCCESSFULLY\")\n",
    "print(\"=\" * 50)\n",
    "print(f\"File Size         : {len(str(result)):,} characters\")\n",
    "print(f\"Stock Code          : {company_of_interest}\")\n",
    "print(f\"Analysis Date     : {trade_date}\")\n",
    "print(f\"Data Mode         : {'Real-time' if online else 'Historical'}\")\n",
    "print(\"=\" * 50)\n",
    "print(\"✅ Professional report with audit trail completed\")"
   ]
  },
  {
   "cell_type": "markdown",
   "id": "78b4e7ec-674f-446e-893b-f00f04a2d575",
   "metadata": {},
   "source": [
    "## 6. News Analysis"
   ]
  },
  {
   "cell_type": "markdown",
   "id": "01f8077d-11bc-4c8b-9967-cbe436260254",
   "metadata": {},
   "source": [
    "The following function creates a News Analyst agent that uses a language model and selected news sources (real-time or cached) to analyze financial news, identify macroeconomic and geopolitical trends, assess market sentiment, and generate actionable insights for trading decisions based on a structured analysis framework."
   ]
  },
  {
   "cell_type": "markdown",
   "id": "9722f763-c79d-49d1-a1d1-8a22de0ac097",
   "metadata": {},
   "source": [
    "<p style=\"color:red; font-weight:bold; font-size:16pt\"> ⚠️ You need to put the agent tool in the correct position to run the codes successfully!</p>"
   ]
  },
  {
   "cell_type": "code",
   "execution_count": null,
   "id": "1a2680a5-b61e-47c9-b781-880c36aa4e58",
   "metadata": {},
   "outputs": [],
   "source": [
    "from tools import get_google_news\n",
    "\n",
    "\n",
    "def create_news_analyst(llm):\n",
    "    \"\"\"\n",
    "    Create a News Analyst agent for news analysis and macroeconomic trend evaluation.\n",
    "    \n",
    "    Args:\n",
    "        llm: The language model to use for the agent\n",
    "        \n",
    "    Returns:\n",
    "        Agent: Configured News Analyst agent\n",
    "    \"\"\"\n",
    "    \n",
    "\n",
    "    # Define the agent's system prompt with comprehensive instructions\n",
    "    system_message = (\n",
    "        \"\"\"You are a News Analyst specializing in financial news analysis and macroeconomic research. \n",
    "        Your role is to analyze recent news and global trends to provide context for trading decisions.\n",
    "\n",
    "        **Key Responsibilities:**\n",
    "        1. Analyze recent news and events from the past week that impact financial markets\n",
    "        2. Identify macroeconomic trends and their potential market implications\n",
    "        3. Assess geopolitical events and their effects on different sectors\n",
    "        4. Evaluate market sentiment from news coverage and social media\n",
    "        5. Provide actionable insights for trading strategies\n",
    "\n",
    "        **Analysis Framework:**\n",
    "        \n",
    "        **Market-Moving Events:**\n",
    "        - Central bank announcements and monetary policy changes\n",
    "        - Economic data releases (GDP, inflation, employment, etc.)\n",
    "        - Corporate earnings and guidance updates\n",
    "        - Geopolitical developments and trade relations\n",
    "        - Regulatory changes and policy announcements\n",
    "\n",
    "        **Sector-Specific Impact:**\n",
    "        - Technology: Innovation, regulation, competitive dynamics\n",
    "        - Healthcare: Drug approvals, policy changes, demographic trends\n",
    "        - Energy: Commodity prices, environmental policies, supply chain\n",
    "        - Financial: Interest rates, regulatory changes, credit conditions\n",
    "        - Consumer: Spending patterns, inflation impact, demographic shifts\n",
    "\n",
    "        **Sentiment Analysis:**\n",
    "        - Overall market sentiment (bullish, bearish, neutral)\n",
    "        - Investor confidence indicators\n",
    "        - Risk appetite and flight-to-quality movements\n",
    "        - Social media sentiment and retail investor behavior\n",
    "\n",
    "        **Global Context:**\n",
    "        - International market developments\n",
    "        - Currency movements and their implications\n",
    "        - Cross-border trade and supply chain impacts\n",
    "        - Regional economic conditions and policies\n",
    "\n",
    "        **Analysis Guidelines:**\n",
    "        1. Focus on news with clear market implications\n",
    "        2. Distinguish between short-term noise and long-term trends\n",
    "        3. Provide specific, actionable insights rather than generic observations\n",
    "        4. Consider both direct and indirect effects on different asset classes\n",
    "        5. Assess the reliability and credibility of news sources\n",
    "        6. Include a markdown table summarizing key findings and implications\n",
    "\n",
    "        **Output Requirements:**\n",
    "        - Comprehensive analysis of market-relevant news and trends\n",
    "        - Clear identification of potential trading opportunities and risks\n",
    "        - Sector-specific impact assessment\n",
    "        - Timeline of key events and their market implications\n",
    "        - Summary table with key news items, impact assessment, and trading implications\n",
    "        \"\"\"\n",
    "    )\n",
    "\n",
    "    # Create and configure the agent\n",
    "    # Fill in the tool parameters below to enable real-time news analysis\n",
    "    # Refer to the imported tools above in this code block to select the appropriate tool\n",
    "    agent = Agent(\n",
    "        model=llm,\n",
    "        # ⚠️ IMPORTANT: Read this code block and repalce XXX_tool with the correct tool.\n",
    "        # Example: tools=[search_tool]\n",
    "        tools=[XXX_tool],\n",
    "        name=\"News Analyst\",\n",
    "        system_prompt=system_message,\n",
    "        load_tools_from_directory=False,\n",
    "    )\n",
    "\n",
    "    return agent\n"
   ]
  },
  {
   "cell_type": "markdown",
   "id": "83c733bb-1f2b-44bf-a5ce-7e4b8d53ea84",
   "metadata": {},
   "source": [
    "### 6.1 Create news agent"
   ]
  },
  {
   "cell_type": "code",
   "execution_count": null,
   "id": "f986547c-8776-4d72-9b22-9567efe67b80",
   "metadata": {},
   "outputs": [],
   "source": [
    "news_analyst_agent = create_news_analyst(llm)"
   ]
  },
  {
   "cell_type": "markdown",
   "id": "b959e389-b8a9-4d29-81c5-f4fe770b83b6",
   "metadata": {},
   "source": [
    "### 6.2 Generate news report"
   ]
  },
  {
   "cell_type": "code",
   "execution_count": null,
   "id": "8043b9d0-1003-4566-8327-23be90c42b4c",
   "metadata": {},
   "outputs": [],
   "source": [
    "print(\"Running news analysis...\")\n",
    "prompt = f\"Analyze the news for {company_of_interest} for the trade date {trade_date}\"\n",
    "result = news_analyst_agent(prompt)\n",
    "save_as_file(str(result), working_dir,prefix, \"news_report.txt\")\n",
    "print(\"News analysis completed.\")"
   ]
  },
  {
   "cell_type": "markdown",
   "id": "c1bf83cb-6667-4d7a-9e98-47f36f5e90b0",
   "metadata": {},
   "source": [
    "### 6.3 Get used tool"
   ]
  },
  {
   "cell_type": "code",
   "execution_count": null,
   "id": "40b5fe2d-c1f3-4710-bf0c-5d8a098f07f0",
   "metadata": {},
   "outputs": [],
   "source": [
    "used_tools = []\n",
    "if hasattr(result, 'metrics') and hasattr(result.metrics, 'tool_metrics'):\n",
    "    for tool_name, tool_metric in result.metrics.tool_metrics.items():\n",
    "        if tool_metric.call_count > 0:\n",
    "            used_tools.append(tool_name)\n",
    "print(used_tools[0])"
   ]
  },
  {
   "cell_type": "markdown",
   "id": "task-completion-section",
   "metadata": {},
   "source": [
    "## 7. Stock Data Retrieval and Validation\n",
    "\n",
    "Retrieve and validate the stock data that is generated during our analysis process. This data serves as the foundation for all technical indicators and analysis conclusions.\n",
    "\n",
    "### 7.1 Locate stock data directory\n",
    "The stock data is automatically cached in the `./results/data_cache/` directory during the analysis process."
   ]
  },
  {
   "cell_type": "code",
   "execution_count": null,
   "id": "data-directory",
   "metadata": {},
   "outputs": [],
   "source": [
    "# Define data cache directory for retrieved market data\n",
    "stock_data_dir = './results/data_cache/'\n",
    "\n",
    "print(f\"📂 Data Cache Directory: {stock_data_dir}\")\n",
    "print(f\"🔍 Searching for generated data files...\")\n",
    "\n",
    "# List available data files\n",
    "if os.path.exists(stock_data_dir):\n",
    "    data_files = [f for f in os.listdir(stock_data_dir) if f.endswith('.csv')]\n",
    "    print(f\"📄 Available data files: {len(data_files)}\")\n",
    "    for file in data_files[:5]:  # Show first 5 files\n",
    "        print(f\"   • {file}\")\n",
    "    if len(data_files) > 5:\n",
    "        print(f\"   ... and {len(data_files) - 5} more files\")\n",
    "else:\n",
    "    print(f\"⚠️ Data cache directory not found. Creating directory...\")\n",
    "    os.makedirs(stock_data_dir, exist_ok=True)"
   ]
  },
  {
   "cell_type": "markdown",
   "id": "file-selection",
   "metadata": {},
   "source": [
    "### 7.2 Interactive Data File Selection\n",
    "\n",
    "Provide an interactive interface for selecting the specific data file generated during our analysis. This ensures we're working with the correct dataset.\n",
    "\n",
    "**Expected filename pattern**: `TICKER-YFin-data-YYYY-MM-DD-YYYY-MM-DD.csv`  \n",
    "**Example**: `AMZN-YFin-data-2010-09-07-2025-09-07.csv`"
   ]
  },
  {
   "cell_type": "code",
   "execution_count": null,
   "id": "select-file",
   "metadata": {},
   "outputs": [],
   "source": [
    "# Interactive file selection for data validation\n",
    "fn = input(\"Enter the file name\")\n",
    "    \n",
    "print(f\"✅ Selected file: {fn}\")"
   ]
  },
  {
   "cell_type": "markdown",
   "id": "display-filename",
   "metadata": {},
   "source": [
    "### 7.3 Display Selected Filename\n",
    "\n",
    "Confirm the filename that was entered for data loading and validation."
   ]
  },
  {
   "cell_type": "code",
   "execution_count": null,
   "id": "show-filename",
   "metadata": {},
   "outputs": [],
   "source": [
    "# Display the selected filename for confirmation\n",
    "print(f\"📄 Selected Data File: {fn}\")\n",
    "print(f\"📂 Full Path: {stock_data_dir + fn}\")\n",
    "fn"
   ]
  },
  {
   "cell_type": "markdown",
   "id": "data-loading",
   "metadata": {},
   "source": [
    "### 7.4 Data Loading and Display\n",
    "\n",
    "Load the selected dataset and display all data to verify the market data structure and content."
   ]
  },
  {
   "cell_type": "code",
   "execution_count": null,
   "id": "load-data",
   "metadata": {},
   "outputs": [],
   "source": [
    "import pandas as pd\n",
    "try:\n",
    "    # Load market data\n",
    "    df = pd.read_csv(stock_data_dir + fn)\n",
    "    \n",
    "    print(f\"📊 DATA LOADING SUMMARY\")\n",
    "    print(\"=\" * 40)\n",
    "    print(f\"File: {fn}\")\n",
    "    print(f\"Records: {len(df):,} trading days\")\n",
    "    print(f\"Columns: {list(df.columns)}\")\n",
    "    print(f\"Date Range: {df['Date'].min()} to {df['Date'].max()}\")\n",
    "    print(\"=\" * 40)\n",
    "    print(\"✅ Data loaded successfully\")\n",
    "    \n",
    "except FileNotFoundError:\n",
    "    print(f\"❌ File not found: {fn}\")\n",
    "    df = None\n",
    "except Exception as e:\n",
    "    print(f\"❌ Error loading data: {e}\")\n",
    "    df = None"
   ]
  },
  {
   "cell_type": "code",
   "execution_count": null,
   "id": "display-all-data",
   "metadata": {},
   "outputs": [],
   "source": [
    "# Display all data from the CSV file\n",
    "if df is not None:\n",
    "    print(f\"\\n📋 COMPLETE DATASET ({df.shape[0]:,} rows × {df.shape[1]} columns)\")\n",
    "    display(df)\n",
    "else:\n",
    "    print(\"⚠️ No data available for display\")"
   ]
  },
  {
   "cell_type": "markdown",
   "id": "target-date-filter",
   "metadata": {},
   "source": [
    "### 7.5 Target Date Analysis\n",
    "\n",
    "Filter the dataset to show only the specified date stock information for detailed analysis."
   ]
  },
  {
   "cell_type": "code",
   "execution_count": null,
   "id": "filter-target-date",
   "metadata": {},
   "outputs": [],
   "source": [
    "pd.options.display.float_format = '{:.14f}'.format\n",
    "\n",
    "filtered_df = df[(df['Date'] == '2025-08-18') ]\n",
    "filtered_df"
   ]
  },
  {
   "cell_type": "markdown",
   "id": "7fe7bfe5-03b9-433f-b82f-5f122977b93c",
   "metadata": {},
   "source": [
    "## 8. Store these variables to reuse in subsequent challenges"
   ]
  },
  {
   "cell_type": "code",
   "execution_count": null,
   "id": "c37b3df0-0a40-411c-9975-e63ad38831de",
   "metadata": {},
   "outputs": [],
   "source": [
    "%store NOVA_PRO_MODEL_ID\n",
    "%store company_of_interest\n",
    "%store trade_date\n",
    "%store working_dir\n",
    "%store prefix\n",
    "%store config"
   ]
  },
  {
   "cell_type": "markdown",
   "id": "9b9a020b-722a-434e-bbae-7fcfbdb723e7",
   "metadata": {},
   "source": [
    "## 9. You can now navigate to the JAM Task 1 page and complete the challenge\n"
   ]
  }
 ],
 "metadata": {
  "kernelspec": {
   "display_name": "conda_python3",
   "language": "python",
   "name": "conda_python3"
  },
  "language_info": {
   "codemirror_mode": {
    "name": "ipython",
    "version": 3
   },
   "file_extension": ".py",
   "mimetype": "text/x-python",
   "name": "python",
   "nbconvert_exporter": "python",
   "pygments_lexer": "ipython3",
   "version": "3.10.18"
  }
 },
 "nbformat": 4,
 "nbformat_minor": 5
}
